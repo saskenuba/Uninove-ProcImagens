{
 "cells": [
  {
   "cell_type": "code",
   "execution_count": 62,
   "metadata": {
    "autoscroll": false,
    "ein.hycell": false,
    "ein.tags": "worksheet-0",
    "slideshow": {
     "slide_type": "-"
    }
   },
   "outputs": [],
   "source": [
    "import cv2 as cv\n",
    "import numpy as np\n",
    "import matplotlib.pyplot as plt\n",
    "import os\n",
    "from scipy import stats as scp\n",
    "from collections import Counter\n",
    "from sklearn.cluster import KMeans"
   ]
  },
  {
   "cell_type": "code",
   "execution_count": 2,
   "metadata": {
    "autoscroll": false,
    "ein.hycell": false,
    "ein.tags": "worksheet-0",
    "slideshow": {
     "slide_type": "-"
    }
   },
   "outputs": [],
   "source": [
    "def toBinary(threshold, element):\n",
    "    return 1 if element > threshold else 0\n",
    "\n",
    "npToBinary = np.vectorize(toBinary, otypes=[np.uint8])"
   ]
  },
  {
   "cell_type": "code",
   "execution_count": 32,
   "metadata": {},
   "outputs": [],
   "source": [
    "def byAreaSize(size):\n",
    "    return size > 50 and size < 10000"
   ]
  },
  {
   "cell_type": "code",
   "execution_count": 3,
   "metadata": {
    "autoscroll": false,
    "ein.hycell": false,
    "ein.tags": "worksheet-0",
    "slideshow": {
     "slide_type": "-"
    }
   },
   "outputs": [
    {
     "data": {
      "text/plain": [
       "['/home/martin/Downloads/uninove/img01.jpg',\n",
       " '/home/martin/Downloads/uninove/img02.jpg',\n",
       " '/home/martin/Downloads/uninove/img03.jpg',\n",
       " '/home/martin/Downloads/uninove/img04.JPG',\n",
       " '/home/martin/Downloads/uninove/img05.jpg',\n",
       " '/home/martin/Downloads/uninove/img06.jpg',\n",
       " '/home/martin/Downloads/uninove/img07.jpg',\n",
       " '/home/martin/Downloads/uninove/img09.jpg',\n",
       " '/home/martin/Downloads/uninove/img10.jpg',\n",
       " '/home/martin/Downloads/uninove/img11.jpg',\n",
       " '/home/martin/Downloads/uninove/img12.jpg',\n",
       " '/home/martin/Downloads/uninove/img13.jpg',\n",
       " '/home/martin/Downloads/uninove/img14.jpg',\n",
       " '/home/martin/Downloads/uninove/img15.jpg',\n",
       " '/home/martin/Downloads/uninove/img16.jpg',\n",
       " '/home/martin/Downloads/uninove/img17.jpg',\n",
       " '/home/martin/Downloads/uninove/img18.jpg',\n",
       " '/home/martin/Downloads/uninove/img19.jpg',\n",
       " '/home/martin/Downloads/uninove/img20.jpg',\n",
       " '/home/martin/Downloads/uninove/img21.jpg',\n",
       " '/home/martin/Downloads/uninove/img22.jpg',\n",
       " '/home/martin/Downloads/uninove/img23.jpg',\n",
       " '/home/martin/Downloads/uninove/img24.jpg',\n",
       " '/home/martin/Downloads/uninove/img25.jpg']"
      ]
     },
     "execution_count": 3,
     "metadata": {},
     "output_type": "execute_result"
    }
   ],
   "source": [
    "pathList = list()\n",
    "for path, subdirs, files in os.walk(r\"/home/martin/Downloads/uninove/\"):\n",
    "    for file in files:\n",
    "        if ('jpg' in file or 'JPG' in file) and '08' not in file:\n",
    "            currentFilePath = \"\".join(path) + file\n",
    "            pathList.append(currentFilePath)\n",
    "pathList = sorted(pathList)\n",
    "pathList"
   ]
  },
  {
   "cell_type": "code",
   "execution_count": 4,
   "metadata": {},
   "outputs": [],
   "source": [
    "def analyzeImage(limiarBase, caminhoImagem):\n",
    "\n",
    "    LIMIAR = limiarBase\n",
    "    contador = None\n",
    "    pecas = dict()\n",
    "\n",
    "    testImage = cv.imread(caminhoImagem, cv.IMREAD_GRAYSCALE)\n",
    "\n",
    "    while True:\n",
    "\n",
    "        binaryImage = npToBinary(LIMIAR, testImage)\n",
    "\n",
    "        nlabels, labels, stats, centroids = cv.connectedComponentsWithStats(binaryImage, 4, cv.CV_32S)\n",
    "\n",
    "        # só estamos interessados na coluna de aŕea total do componente conexo\n",
    "        areaSlice = stats[:, cv.CC_STAT_AREA]\n",
    "        \n",
    "        # realizamos o sort para que se possa remover o maior, que será sempre o background\n",
    "        areaArray = np.sort(areaSlice.reshape(areaSlice.size, 1), axis=0)\n",
    "\n",
    "        kmeans = KMeans(n_clusters=2, max_iter=100).fit(areaArray[:-1])\n",
    "        contador = Counter(kmeans.labels_)\n",
    "\n",
    "        pecas[\"porcas\"] = contador.get(0)\n",
    "        pecas[\"parafusos\"] = contador.get(1)\n",
    "\n",
    "        if LIMIAR > 250:\n",
    "            raise Exception(\"LIMIAR maior que 250\")\n",
    "            break\n",
    "\n",
    "        if pecas[\"porcas\"] > 10 or pecas[\"parafusos\"] > 10:\n",
    "            LIMIAR += 5\n",
    "        elif pecas[\"porcas\"] < 11 or pecas[\"parafusos\"] < 11:\n",
    "            return (pecas, LIMIAR)"
   ]
  },
  {
   "cell_type": "code",
   "execution_count": 5,
   "metadata": {},
   "outputs": [
    {
     "name": "stdout",
     "output_type": "stream",
     "text": [
      "INFO; Imagem No 0\n",
      "Imagem:  /home/martin/Downloads/uninove/img01.jpg\n",
      "Limiar: 150. No Porcas: 10, No Parafusos: 10\n",
      "Número correto de porcas: 10, parafusos: 10\n",
      "\n",
      "Taxa de acertos (Parafusos): 4.0\n",
      "Taxa de acertos (Porcas):  4.0\n",
      "Taxa de acertos: 4.0\n",
      "----------\n",
      "INFO; Imagem No 1\n",
      "Imagem:  /home/martin/Downloads/uninove/img02.jpg\n",
      "Limiar: 160. No Porcas: 10, No Parafusos: 10\n",
      "Número correto de porcas: 10, parafusos: 10\n",
      "\n",
      "Taxa de acertos (Parafusos): 8.0\n",
      "Taxa de acertos (Porcas):  8.0\n",
      "Taxa de acertos: 8.0\n",
      "----------\n",
      "INFO; Imagem No 2\n",
      "Imagem:  /home/martin/Downloads/uninove/img03.jpg\n",
      "Limiar: 155. No Porcas: 10, No Parafusos: 10\n",
      "Número correto de porcas: 10, parafusos: 10\n",
      "\n",
      "Taxa de acertos (Parafusos): 12.0\n",
      "Taxa de acertos (Porcas):  12.0\n",
      "Taxa de acertos: 12.0\n",
      "----------\n",
      "INFO; Imagem No 3\n",
      "Imagem:  /home/martin/Downloads/uninove/img04.JPG\n",
      "Limiar: 205. No Porcas: 5, No Parafusos: 10\n",
      "Número correto de porcas: 10, parafusos: 5\n",
      "\n",
      "Taxa de acertos (Parafusos): 12.0\n",
      "Taxa de acertos (Porcas):  12.0\n",
      "Taxa de acertos: 12.0\n",
      "----------\n",
      "INFO; Imagem No 4\n",
      "Imagem:  /home/martin/Downloads/uninove/img05.jpg\n",
      "Limiar: 190. No Porcas: 9, No Parafusos: 9\n",
      "Número correto de porcas: 9, parafusos: 9\n",
      "\n",
      "Taxa de acertos (Parafusos): 16.0\n",
      "Taxa de acertos (Porcas):  16.0\n",
      "Taxa de acertos: 16.0\n",
      "----------\n",
      "INFO; Imagem No 5\n",
      "Imagem:  /home/martin/Downloads/uninove/img06.jpg\n",
      "Limiar: 150. No Porcas: 10, No Parafusos: 10\n",
      "Número correto de porcas: 10, parafusos: 10\n",
      "\n",
      "Taxa de acertos (Parafusos): 20.0\n",
      "Taxa de acertos (Porcas):  20.0\n",
      "Taxa de acertos: 20.0\n",
      "----------\n",
      "INFO; Imagem No 6\n",
      "Imagem:  /home/martin/Downloads/uninove/img07.jpg\n",
      "Limiar: 180. No Porcas: 7, No Parafusos: 10\n",
      "Número correto de porcas: 10, parafusos: 7\n",
      "\n",
      "Taxa de acertos (Parafusos): 20.0\n",
      "Taxa de acertos (Porcas):  20.0\n",
      "Taxa de acertos: 20.0\n",
      "----------\n",
      "INFO; Imagem No 7\n",
      "Imagem:  /home/martin/Downloads/uninove/img09.jpg\n",
      "Limiar: 150. No Porcas: 10, No Parafusos: 10\n",
      "Número correto de porcas: 10, parafusos: 7\n",
      "\n",
      "Taxa de acertos (Parafusos): 20.0\n",
      "Taxa de acertos (Porcas):  24.0\n",
      "Taxa de acertos: 20.0\n",
      "----------\n",
      "INFO; Imagem No 8\n",
      "Imagem:  /home/martin/Downloads/uninove/img10.jpg\n",
      "Limiar: 195. No Porcas: 10, No Parafusos: 9\n",
      "Número correto de porcas: 10, parafusos: 10\n",
      "\n",
      "Taxa de acertos (Parafusos): 20.0\n",
      "Taxa de acertos (Porcas):  28.0\n",
      "Taxa de acertos: 20.0\n",
      "----------\n",
      "INFO; Imagem No 9\n",
      "Imagem:  /home/martin/Downloads/uninove/img11.jpg\n",
      "Limiar: 175. No Porcas: 7, No Parafusos: 3\n",
      "Número correto de porcas: 9, parafusos: 10\n",
      "\n",
      "Taxa de acertos (Parafusos): 20.0\n",
      "Taxa de acertos (Porcas):  28.0\n",
      "Taxa de acertos: 20.0\n",
      "----------\n",
      "INFO; Imagem No 10\n",
      "Imagem:  /home/martin/Downloads/uninove/img12.jpg\n",
      "Limiar: 150. No Porcas: 10, No Parafusos: 10\n",
      "Número correto de porcas: 0, parafusos: 10\n",
      "\n",
      "Taxa de acertos (Parafusos): 24.0\n",
      "Taxa de acertos (Porcas):  28.0\n",
      "Taxa de acertos: 20.0\n",
      "----------\n"
     ]
    },
    {
     "ename": "ValueError",
     "evalue": "Found array with 0 sample(s) (shape=(0, 1)) while a minimum of 1 is required.",
     "output_type": "error",
     "traceback": [
      "\u001b[0;31m---------------------------------------------------------------------------\u001b[0m",
      "\u001b[0;31mValueError\u001b[0m                                Traceback (most recent call last)",
      "\u001b[0;32m<ipython-input-5-c527be636b3d>\u001b[0m in \u001b[0;36m<module>\u001b[0;34m()\u001b[0m\n\u001b[1;32m      8\u001b[0m \u001b[0;32mfor\u001b[0m \u001b[0mindex\u001b[0m\u001b[0;34m,\u001b[0m \u001b[0mimagePath\u001b[0m \u001b[0;32min\u001b[0m \u001b[0menumerate\u001b[0m\u001b[0;34m(\u001b[0m\u001b[0mpathList\u001b[0m\u001b[0;34m)\u001b[0m\u001b[0;34m:\u001b[0m\u001b[0;34m\u001b[0m\u001b[0m\n\u001b[1;32m      9\u001b[0m     \u001b[0mbaseLimiar\u001b[0m \u001b[0;34m=\u001b[0m \u001b[0;36m150\u001b[0m\u001b[0;34m\u001b[0m\u001b[0m\n\u001b[0;32m---> 10\u001b[0;31m     \u001b[0mpecas\u001b[0m\u001b[0;34m,\u001b[0m \u001b[0mLIMIAR\u001b[0m \u001b[0;34m=\u001b[0m \u001b[0manalyzeImage\u001b[0m\u001b[0;34m(\u001b[0m\u001b[0mbaseLimiar\u001b[0m\u001b[0;34m,\u001b[0m \u001b[0mimagePath\u001b[0m\u001b[0;34m)\u001b[0m\u001b[0;34m\u001b[0m\u001b[0m\n\u001b[0m\u001b[1;32m     11\u001b[0m \u001b[0;34m\u001b[0m\u001b[0m\n\u001b[1;32m     12\u001b[0m     \u001b[0mcontPorcas\u001b[0m \u001b[0;34m=\u001b[0m \u001b[0mpecas\u001b[0m\u001b[0;34m[\u001b[0m\u001b[0;34m\"porcas\"\u001b[0m\u001b[0;34m]\u001b[0m\u001b[0;34m\u001b[0m\u001b[0m\n",
      "\u001b[0;32m<ipython-input-4-d22689c964e9>\u001b[0m in \u001b[0;36manalyzeImage\u001b[0;34m(limiarBase, caminhoImagem)\u001b[0m\n\u001b[1;32m     19\u001b[0m         \u001b[0mareaArray\u001b[0m \u001b[0;34m=\u001b[0m \u001b[0mnp\u001b[0m\u001b[0;34m.\u001b[0m\u001b[0msort\u001b[0m\u001b[0;34m(\u001b[0m\u001b[0mareaSlice\u001b[0m\u001b[0;34m.\u001b[0m\u001b[0mreshape\u001b[0m\u001b[0;34m(\u001b[0m\u001b[0mareaSlice\u001b[0m\u001b[0;34m.\u001b[0m\u001b[0msize\u001b[0m\u001b[0;34m,\u001b[0m \u001b[0;36m1\u001b[0m\u001b[0;34m)\u001b[0m\u001b[0;34m,\u001b[0m \u001b[0maxis\u001b[0m\u001b[0;34m=\u001b[0m\u001b[0;36m0\u001b[0m\u001b[0;34m)\u001b[0m\u001b[0;34m\u001b[0m\u001b[0m\n\u001b[1;32m     20\u001b[0m \u001b[0;34m\u001b[0m\u001b[0m\n\u001b[0;32m---> 21\u001b[0;31m         \u001b[0mkmeans\u001b[0m \u001b[0;34m=\u001b[0m \u001b[0mKMeans\u001b[0m\u001b[0;34m(\u001b[0m\u001b[0mn_clusters\u001b[0m\u001b[0;34m=\u001b[0m\u001b[0;36m2\u001b[0m\u001b[0;34m,\u001b[0m \u001b[0mmax_iter\u001b[0m\u001b[0;34m=\u001b[0m\u001b[0;36m100\u001b[0m\u001b[0;34m)\u001b[0m\u001b[0;34m.\u001b[0m\u001b[0mfit\u001b[0m\u001b[0;34m(\u001b[0m\u001b[0mareaArray\u001b[0m\u001b[0;34m[\u001b[0m\u001b[0;34m:\u001b[0m\u001b[0;34m-\u001b[0m\u001b[0;36m1\u001b[0m\u001b[0;34m]\u001b[0m\u001b[0;34m)\u001b[0m\u001b[0;34m\u001b[0m\u001b[0m\n\u001b[0m\u001b[1;32m     22\u001b[0m         \u001b[0mcontador\u001b[0m \u001b[0;34m=\u001b[0m \u001b[0mCounter\u001b[0m\u001b[0;34m(\u001b[0m\u001b[0mkmeans\u001b[0m\u001b[0;34m.\u001b[0m\u001b[0mlabels_\u001b[0m\u001b[0;34m)\u001b[0m\u001b[0;34m\u001b[0m\u001b[0m\n\u001b[1;32m     23\u001b[0m \u001b[0;34m\u001b[0m\u001b[0m\n",
      "\u001b[0;32m~/Documents/PythonEnvironments/Uninove-ProcDados-PDLD40tD/lib/python3.7/site-packages/sklearn/cluster/k_means_.py\u001b[0m in \u001b[0;36mfit\u001b[0;34m(self, X, y)\u001b[0m\n\u001b[1;32m    885\u001b[0m         \"\"\"\n\u001b[1;32m    886\u001b[0m         \u001b[0mrandom_state\u001b[0m \u001b[0;34m=\u001b[0m \u001b[0mcheck_random_state\u001b[0m\u001b[0;34m(\u001b[0m\u001b[0mself\u001b[0m\u001b[0;34m.\u001b[0m\u001b[0mrandom_state\u001b[0m\u001b[0;34m)\u001b[0m\u001b[0;34m\u001b[0m\u001b[0m\n\u001b[0;32m--> 887\u001b[0;31m         \u001b[0mX\u001b[0m \u001b[0;34m=\u001b[0m \u001b[0mself\u001b[0m\u001b[0;34m.\u001b[0m\u001b[0m_check_fit_data\u001b[0m\u001b[0;34m(\u001b[0m\u001b[0mX\u001b[0m\u001b[0;34m)\u001b[0m\u001b[0;34m\u001b[0m\u001b[0m\n\u001b[0m\u001b[1;32m    888\u001b[0m \u001b[0;34m\u001b[0m\u001b[0m\n\u001b[1;32m    889\u001b[0m         \u001b[0mself\u001b[0m\u001b[0;34m.\u001b[0m\u001b[0mcluster_centers_\u001b[0m\u001b[0;34m,\u001b[0m \u001b[0mself\u001b[0m\u001b[0;34m.\u001b[0m\u001b[0mlabels_\u001b[0m\u001b[0;34m,\u001b[0m \u001b[0mself\u001b[0m\u001b[0;34m.\u001b[0m\u001b[0minertia_\u001b[0m\u001b[0;34m,\u001b[0m \u001b[0mself\u001b[0m\u001b[0;34m.\u001b[0m\u001b[0mn_iter_\u001b[0m \u001b[0;34m=\u001b[0m\u001b[0;31m \u001b[0m\u001b[0;31m\\\u001b[0m\u001b[0;34m\u001b[0m\u001b[0m\n",
      "\u001b[0;32m~/Documents/PythonEnvironments/Uninove-ProcDados-PDLD40tD/lib/python3.7/site-packages/sklearn/cluster/k_means_.py\u001b[0m in \u001b[0;36m_check_fit_data\u001b[0;34m(self, X)\u001b[0m\n\u001b[1;32m    856\u001b[0m     \u001b[0;32mdef\u001b[0m \u001b[0m_check_fit_data\u001b[0m\u001b[0;34m(\u001b[0m\u001b[0mself\u001b[0m\u001b[0;34m,\u001b[0m \u001b[0mX\u001b[0m\u001b[0;34m)\u001b[0m\u001b[0;34m:\u001b[0m\u001b[0;34m\u001b[0m\u001b[0m\n\u001b[1;32m    857\u001b[0m         \u001b[0;34m\"\"\"Verify that the number of samples given is larger than k\"\"\"\u001b[0m\u001b[0;34m\u001b[0m\u001b[0m\n\u001b[0;32m--> 858\u001b[0;31m         \u001b[0mX\u001b[0m \u001b[0;34m=\u001b[0m \u001b[0mcheck_array\u001b[0m\u001b[0;34m(\u001b[0m\u001b[0mX\u001b[0m\u001b[0;34m,\u001b[0m \u001b[0maccept_sparse\u001b[0m\u001b[0;34m=\u001b[0m\u001b[0;34m'csr'\u001b[0m\u001b[0;34m,\u001b[0m \u001b[0mdtype\u001b[0m\u001b[0;34m=\u001b[0m\u001b[0;34m[\u001b[0m\u001b[0mnp\u001b[0m\u001b[0;34m.\u001b[0m\u001b[0mfloat64\u001b[0m\u001b[0;34m,\u001b[0m \u001b[0mnp\u001b[0m\u001b[0;34m.\u001b[0m\u001b[0mfloat32\u001b[0m\u001b[0;34m]\u001b[0m\u001b[0;34m)\u001b[0m\u001b[0;34m\u001b[0m\u001b[0m\n\u001b[0m\u001b[1;32m    859\u001b[0m         \u001b[0;32mif\u001b[0m \u001b[0mX\u001b[0m\u001b[0;34m.\u001b[0m\u001b[0mshape\u001b[0m\u001b[0;34m[\u001b[0m\u001b[0;36m0\u001b[0m\u001b[0;34m]\u001b[0m \u001b[0;34m<\u001b[0m \u001b[0mself\u001b[0m\u001b[0;34m.\u001b[0m\u001b[0mn_clusters\u001b[0m\u001b[0;34m:\u001b[0m\u001b[0;34m\u001b[0m\u001b[0m\n\u001b[1;32m    860\u001b[0m             raise ValueError(\"n_samples=%d should be >= n_clusters=%d\" % (\n",
      "\u001b[0;32m~/Documents/PythonEnvironments/Uninove-ProcDados-PDLD40tD/lib/python3.7/site-packages/sklearn/utils/validation.py\u001b[0m in \u001b[0;36mcheck_array\u001b[0;34m(array, accept_sparse, dtype, order, copy, force_all_finite, ensure_2d, allow_nd, ensure_min_samples, ensure_min_features, warn_on_dtype, estimator)\u001b[0m\n\u001b[1;32m    460\u001b[0m                              \u001b[0;34m\" minimum of %d is required%s.\"\u001b[0m\u001b[0;34m\u001b[0m\u001b[0m\n\u001b[1;32m    461\u001b[0m                              % (n_samples, shape_repr, ensure_min_samples,\n\u001b[0;32m--> 462\u001b[0;31m                                 context))\n\u001b[0m\u001b[1;32m    463\u001b[0m \u001b[0;34m\u001b[0m\u001b[0m\n\u001b[1;32m    464\u001b[0m     \u001b[0;32mif\u001b[0m \u001b[0mensure_min_features\u001b[0m \u001b[0;34m>\u001b[0m \u001b[0;36m0\u001b[0m \u001b[0;32mand\u001b[0m \u001b[0marray\u001b[0m\u001b[0;34m.\u001b[0m\u001b[0mndim\u001b[0m \u001b[0;34m==\u001b[0m \u001b[0;36m2\u001b[0m\u001b[0;34m:\u001b[0m\u001b[0;34m\u001b[0m\u001b[0m\n",
      "\u001b[0;31mValueError\u001b[0m: Found array with 0 sample(s) (shape=(0, 1)) while a minimum of 1 is required."
     ]
    }
   ],
   "source": [
    "parafusos = [10,10,10,5,9,10,7,7,10,10,10,10,10,10,9,0,7,10,7,10,10,10,8,9,10]\n",
    "porcas = [10,10,10,10,9,10,10,10,10,9,0,10,9,10,10,10,7,10,9,10,10,10,8,10,9]\n",
    "\n",
    "acertosParafusos = 0\n",
    "acertosPorcas = 0\n",
    "acertos = 0\n",
    "\n",
    "for index, imagePath in enumerate(pathList):\n",
    "    baseLimiar = 150\n",
    "    pecas, LIMIAR = analyzeImage(baseLimiar, imagePath)\n",
    "    \n",
    "    contPorcas = pecas[\"porcas\"]\n",
    "    contParafusos = pecas[\"parafusos\"]\n",
    "    \n",
    "    if (porcas[index] == contPorcas):\n",
    "        acertosPorcas += 1\n",
    "    if (parafusos[index] == contParafusos):\n",
    "        acertosParafusos += 1\n",
    "    if (porcas[index] == contPorcas and parafusos[index] == contParafusos):\n",
    "        acertos += 1\n",
    "    \n",
    "    print(\"INFO; Imagem No\", index)\n",
    "    print(\"Imagem: \", imagePath)\n",
    "    print(\"Limiar: {}. No Porcas: {}, No Parafusos: {}\".format(LIMIAR, contPorcas, contParafusos))\n",
    "    print(\"Número correto de porcas: {}, parafusos: {}\".format(porcas[index], parafusos[index]))\n",
    "    print(\"\\nTaxa de acertos (Parafusos):\", round((acertosParafusos/len(porcas)*100),2))\n",
    "    print(\"Taxa de acertos (Porcas): \", round((acertosPorcas/len(porcas)*100),2))\n",
    "    print(\"Taxa de acertos:\", round((acertos/25*100),2))\n",
    "    print(\"----------\")"
   ]
  },
  {
   "cell_type": "code",
   "execution_count": 63,
   "metadata": {},
   "outputs": [
    {
     "name": "stdout",
     "output_type": "stream",
     "text": [
      "DescribeResult(nobs=10, minmax=(array([2421], dtype=int32), array([2629], dtype=int32)), mean=array([2543.2]), variance=array([3932.4]), skewness=array([-0.63398065]), kurtosis=array([-0.40595156]))\n"
     ]
    },
    {
     "data": {
      "text/plain": [
       "<matplotlib.image.AxesImage at 0x7f980ff2bcf8>"
      ]
     },
     "execution_count": 63,
     "metadata": {},
     "output_type": "execute_result"
    },
    {
     "data": {
      "image/png": "[encoded data removed]",
      "text/plain": [
       "<Figure size 432x288 with 1 Axes>"
      ]
     },
     "metadata": {
      "needs_background": "light"
     },
     "output_type": "display_data"
    }
   ],
   "source": [
    "currentImage = \"/home/martin/Downloads/uninove/img11.jpg\"\n",
    "testImage = cv.imread(currentImage, cv.IMREAD_GRAYSCALE)\n",
    "\n",
    "binaryImage = npToBinary(170, testImage)\n",
    "\n",
    "nlabels, labels, stats, centroids = cv.connectedComponentsWithStats(binaryImage, 4, cv.CV_32S)\n",
    "\n",
    "# só estamos interessados na coluna de aŕea total do componente conexo\n",
    "areaSlice = stats[:, cv.CC_STAT_AREA]\n",
    "\n",
    "# realizamos o sort para que se possa remover valores incorretos, \n",
    "# como áreas muito pequenas ou o background\n",
    "areaArray = np.sort(np.asarray(list(filter(byAreaSize, areaSlice))))\n",
    "areaArray = areaArray.reshape(areaArray.size, 1)\n",
    "\n",
    "print(scp.describe(areaArray))\n",
    "\n",
    "kmeans = KMeans(n_clusters=2, max_iter=100).fit(areaArray[:-1])\n",
    "contador = Counter(kmeans.labels_)\n",
    "\n",
    "\n",
    "plt.imshow(binaryImage, cmap=\"gray\")"
   ]
  },
  {
   "cell_type": "code",
   "execution_count": 33,
   "metadata": {},
   "outputs": [
    {
     "data": {
      "text/plain": [
       "[300, 200]"
      ]
     },
     "execution_count": 33,
     "metadata": {},
     "output_type": "execute_result"
    }
   ],
   "source": [
    "list(filter(byAreaSize, [300, 10, 200, 90000]))"
   ]
  },
  {
   "cell_type": "code",
   "execution_count": null,
   "metadata": {},
   "outputs": [],
   "source": []
  }
 ],
 "metadata": {
  "kernelspec": {
   "display_name": "Python 3",
   "language": "python",
   "name": "python3"
  },
  "language_info": {
   "codemirror_mode": {
    "name": "ipython",
    "version": 3
   },
   "file_extension": ".py",
   "mimetype": "text/x-python",
   "name": "python",
   "nbconvert_exporter": "python",
   "pygments_lexer": "ipython3",
   "version": "3.7.0"
  },
  "name": "UNI-ProcDados-20180920-02.ipynb"
 },
 "nbformat": 4,
 "nbformat_minor": 2
}
